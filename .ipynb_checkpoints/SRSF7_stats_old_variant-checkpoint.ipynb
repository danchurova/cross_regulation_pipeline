{
 "cells": [
  {
   "cell_type": "markdown",
   "metadata": {},
   "source": [
    "## Analysis of cross-regulation predictions of SRSF7\n",
    "### Different parameters"
   ]
  },
  {
   "cell_type": "code",
   "execution_count": 1,
   "metadata": {},
   "outputs": [],
   "source": [
    "# packages\n",
    "import pandas as pd\n",
    "import seaborn as sns"
   ]
  },
  {
   "cell_type": "code",
   "execution_count": 3,
   "metadata": {},
   "outputs": [],
   "source": [
    "# data\n",
    "srsf7_targets_500_11 = pd.read_table('./data/outputs/cross_peaks_nmd_SRSF7_500_11.tsv', header=None)\n",
    "#srsf7_targets_500_11p3 = pd.read_table('./data/outputs/cross_peaks_nmd_SRSF7_500_11p3.tsv', header=None)\n",
    "NMD_KD = pd.read_table('./data/input_data/upf1xrn1_deltaPSI.tsv')\n",
    "NMD_KD.head()\n",
    "for_eCLIPs = pd.read_table('./data/outputs/exon_peaks.bed', header=None)\n",
    "# gcn_data\n",
    "srsf7_gcn = pd.read_table('./srsf7.tsv')"
   ]
  },
  {
   "cell_type": "code",
   "execution_count": 4,
   "metadata": {},
   "outputs": [],
   "source": [
    "# nmd_kd parsing\n",
    "nmd_kd = NMD_KD[['id', 'gene', 'deltaPSI.UPF1','p.UPF1','q.UPF1','deltaPSI.SMG6', 'p.SMG6', 'q.SMG6']]\n",
    "nmd_kd = nmd_kd.rename(columns={'id':'exon'})\n",
    "#nmd_kd[nmd_kd.gene == 'SRSF7']"
   ]
  },
  {
   "cell_type": "code",
   "execution_count": 5,
   "metadata": {},
   "outputs": [
    {
     "data": {
      "text/html": [
       "<div>\n",
       "<style scoped>\n",
       "    .dataframe tbody tr th:only-of-type {\n",
       "        vertical-align: middle;\n",
       "    }\n",
       "\n",
       "    .dataframe tbody tr th {\n",
       "        vertical-align: top;\n",
       "    }\n",
       "\n",
       "    .dataframe thead th {\n",
       "        text-align: right;\n",
       "    }\n",
       "</style>\n",
       "<table border=\"1\" class=\"dataframe\">\n",
       "  <thead>\n",
       "    <tr style=\"text-align: right;\">\n",
       "      <th></th>\n",
       "      <th>exon</th>\n",
       "      <th>target</th>\n",
       "      <th>factor</th>\n",
       "      <th>strand</th>\n",
       "      <th>eCLIPs cell line</th>\n",
       "      <th>rep</th>\n",
       "      <th>eCLIP_p-value</th>\n",
       "      <th>eCLIP_logFC</th>\n",
       "    </tr>\n",
       "  </thead>\n",
       "  <tbody>\n",
       "    <tr>\n",
       "      <th>0</th>\n",
       "      <td>chr1_137621_139379_-</td>\n",
       "      <td>AL627309.1</td>\n",
       "      <td>ILF3</td>\n",
       "      <td>-</td>\n",
       "      <td>K562</td>\n",
       "      <td>rep02</td>\n",
       "      <td>2.421904</td>\n",
       "      <td>5.174009</td>\n",
       "    </tr>\n",
       "    <tr>\n",
       "      <th>1</th>\n",
       "      <td>chr1_137621_139379_-</td>\n",
       "      <td>AL627309.1</td>\n",
       "      <td>HNRNPK</td>\n",
       "      <td>-</td>\n",
       "      <td>K562</td>\n",
       "      <td>rep02</td>\n",
       "      <td>3.064845</td>\n",
       "      <td>5.305207</td>\n",
       "    </tr>\n",
       "    <tr>\n",
       "      <th>2</th>\n",
       "      <td>chr1_137621_139379_-</td>\n",
       "      <td>AL627309.1</td>\n",
       "      <td>BUD13</td>\n",
       "      <td>-</td>\n",
       "      <td>K562</td>\n",
       "      <td>rep02</td>\n",
       "      <td>2.653889</td>\n",
       "      <td>3.067285</td>\n",
       "    </tr>\n",
       "    <tr>\n",
       "      <th>3</th>\n",
       "      <td>chr1_137621_139379_-</td>\n",
       "      <td>AL627309.1</td>\n",
       "      <td>HNRNPK</td>\n",
       "      <td>-</td>\n",
       "      <td>K562</td>\n",
       "      <td>rep01</td>\n",
       "      <td>1.620957</td>\n",
       "      <td>1.052859</td>\n",
       "    </tr>\n",
       "    <tr>\n",
       "      <th>4</th>\n",
       "      <td>chr1_137621_139379_-</td>\n",
       "      <td>AL627309.1</td>\n",
       "      <td>PUM1</td>\n",
       "      <td>-</td>\n",
       "      <td>K562</td>\n",
       "      <td>rep02</td>\n",
       "      <td>3.858528</td>\n",
       "      <td>5.736128</td>\n",
       "    </tr>\n",
       "  </tbody>\n",
       "</table>\n",
       "</div>"
      ],
      "text/plain": [
       "                   exon      target  factor strand eCLIPs cell line    rep  \\\n",
       "0  chr1_137621_139379_-  AL627309.1    ILF3      -             K562  rep02   \n",
       "1  chr1_137621_139379_-  AL627309.1  HNRNPK      -             K562  rep02   \n",
       "2  chr1_137621_139379_-  AL627309.1   BUD13      -             K562  rep02   \n",
       "3  chr1_137621_139379_-  AL627309.1  HNRNPK      -             K562  rep01   \n",
       "4  chr1_137621_139379_-  AL627309.1    PUM1      -             K562  rep02   \n",
       "\n",
       "   eCLIP_p-value  eCLIP_logFC  \n",
       "0       2.421904     5.174009  \n",
       "1       3.064845     5.305207  \n",
       "2       2.653889     3.067285  \n",
       "3       1.620957     1.052859  \n",
       "4       3.858528     5.736128  "
      ]
     },
     "execution_count": 5,
     "metadata": {},
     "output_type": "execute_result"
    }
   ],
   "source": [
    "# eCLIPs parsing\n",
    "eCLIPs = for_eCLIPs.iloc[:, [3,6,10,12,13,14,15,16]]\n",
    "eCLIPs.columns = ['exon', 'target', 'factor', 'strand', 'eCLIPs cell line', 'rep', 'eCLIP_p-value', 'eCLIP_logFC']\n",
    "eCLIPs.head()"
   ]
  },
  {
   "cell_type": "code",
   "execution_count": 7,
   "metadata": {},
   "outputs": [
    {
     "data": {
      "text/html": [
       "<div>\n",
       "<style scoped>\n",
       "    .dataframe tbody tr th:only-of-type {\n",
       "        vertical-align: middle;\n",
       "    }\n",
       "\n",
       "    .dataframe tbody tr th {\n",
       "        vertical-align: top;\n",
       "    }\n",
       "\n",
       "    .dataframe thead th {\n",
       "        text-align: right;\n",
       "    }\n",
       "</style>\n",
       "<table border=\"1\" class=\"dataframe\">\n",
       "  <thead>\n",
       "    <tr style=\"text-align: right;\">\n",
       "      <th></th>\n",
       "      <th>factor</th>\n",
       "      <th>cell line</th>\n",
       "      <th>exon</th>\n",
       "      <th>target</th>\n",
       "      <th>deltaPSI</th>\n",
       "      <th>deltaPSIc</th>\n",
       "      <th>z</th>\n",
       "      <th>p</th>\n",
       "      <th>q</th>\n",
       "      <th>KDFC</th>\n",
       "    </tr>\n",
       "  </thead>\n",
       "  <tbody>\n",
       "    <tr>\n",
       "      <th>0</th>\n",
       "      <td>SRSF7</td>\n",
       "      <td>HepG2</td>\n",
       "      <td>chr15_37186953_37187013_-</td>\n",
       "      <td>MEIS2</td>\n",
       "      <td>0.29</td>\n",
       "      <td>0.29</td>\n",
       "      <td>1.34</td>\n",
       "      <td>1.05</td>\n",
       "      <td>0.08</td>\n",
       "      <td>0.54</td>\n",
       "    </tr>\n",
       "    <tr>\n",
       "      <th>1</th>\n",
       "      <td>SRSF7</td>\n",
       "      <td>HepG2</td>\n",
       "      <td>chr3_160118610_160118753_+</td>\n",
       "      <td>SMC4</td>\n",
       "      <td>-0.61</td>\n",
       "      <td>-0.60</td>\n",
       "      <td>-2.67</td>\n",
       "      <td>2.42</td>\n",
       "      <td>0.52</td>\n",
       "      <td>0.54</td>\n",
       "    </tr>\n",
       "    <tr>\n",
       "      <th>2</th>\n",
       "      <td>SRSF7</td>\n",
       "      <td>HepG2</td>\n",
       "      <td>chr10_70276841_70277022_-</td>\n",
       "      <td>SLC25A16</td>\n",
       "      <td>0.22</td>\n",
       "      <td>0.22</td>\n",
       "      <td>1.72</td>\n",
       "      <td>1.37</td>\n",
       "      <td>0.08</td>\n",
       "      <td>0.54</td>\n",
       "    </tr>\n",
       "    <tr>\n",
       "      <th>3</th>\n",
       "      <td>SRSF7</td>\n",
       "      <td>HepG2</td>\n",
       "      <td>chr12_57999354_57999514_+</td>\n",
       "      <td>DTX3</td>\n",
       "      <td>-0.29</td>\n",
       "      <td>-0.29</td>\n",
       "      <td>-2.13</td>\n",
       "      <td>1.78</td>\n",
       "      <td>0.22</td>\n",
       "      <td>0.54</td>\n",
       "    </tr>\n",
       "    <tr>\n",
       "      <th>4</th>\n",
       "      <td>SRSF7</td>\n",
       "      <td>HepG2</td>\n",
       "      <td>chr17_28490085_28490180_+</td>\n",
       "      <td>NSRP1</td>\n",
       "      <td>0.16</td>\n",
       "      <td>0.17</td>\n",
       "      <td>1.34</td>\n",
       "      <td>1.05</td>\n",
       "      <td>0.08</td>\n",
       "      <td>0.54</td>\n",
       "    </tr>\n",
       "  </tbody>\n",
       "</table>\n",
       "</div>"
      ],
      "text/plain": [
       "  factor cell line                        exon    target  deltaPSI  deltaPSIc  \\\n",
       "0  SRSF7     HepG2   chr15_37186953_37187013_-     MEIS2      0.29       0.29   \n",
       "1  SRSF7     HepG2  chr3_160118610_160118753_+      SMC4     -0.61      -0.60   \n",
       "2  SRSF7     HepG2   chr10_70276841_70277022_-  SLC25A16      0.22       0.22   \n",
       "3  SRSF7     HepG2   chr12_57999354_57999514_+      DTX3     -0.29      -0.29   \n",
       "4  SRSF7     HepG2   chr17_28490085_28490180_+     NSRP1      0.16       0.17   \n",
       "\n",
       "      z     p     q  KDFC  \n",
       "0  1.34  1.05  0.08  0.54  \n",
       "1 -2.67  2.42  0.52  0.54  \n",
       "2  1.72  1.37  0.08  0.54  \n",
       "3 -2.13  1.78  0.22  0.54  \n",
       "4  1.34  1.05  0.08  0.54  "
      ]
     },
     "execution_count": 7,
     "metadata": {},
     "output_type": "execute_result"
    }
   ],
   "source": [
    "srsf7_targets_500_11.columns = ['factor', 'cell line', 'exon', 'target', 'deltaPSI', 'deltaPSIc', 'z', 'p', 'q', 'KDFC']\n",
    "#srsf7_targets_500_11p3.columns = ['factor', 'cell line', 'exon', 'target', 'deltaPSI', 'deltaPSIc', 'z', 'p', 'q', 'KDFC']\n",
    "srsf7_targets_500_11.head()"
   ]
  },
  {
   "cell_type": "code",
   "execution_count": 8,
   "metadata": {},
   "outputs": [],
   "source": [
    "# merging two datasets for q-values and eCLIP thresholds = 1\n",
    "two_kds_500_11 = pd.merge(nmd_kd, srsf7_targets_500_11, on='exon')\n",
    "two_kds_500_11short = two_kds_500_11[['exon', 'target', 'factor', 'deltaPSI.UPF1', 'p.UPF1', 'q.UPF1', \\\n",
    "                'deltaPSI.SMG6', 'p.SMG6','q.SMG6', 'cell line', 'deltaPSI', 'p', 'q']]"
   ]
  },
  {
   "cell_type": "code",
   "execution_count": 11,
   "metadata": {},
   "outputs": [],
   "source": [
    "# merging two datasets for q-values for KDs and eCLIP thresholds = 1.3 and 1\n",
    "#two_kds_500_11p3 = pd.merge(nmd_kd, srsf7_targets_500_11p3, on='exon')\n",
    "#two_kds_500_11p3short = two_kds_500_11p3[['exon', 'target', 'factor', 'deltaPSI.UPF1', 'p.UPF1', 'q.UPF1', \\\n",
    "                #'deltaPSI.SMG6', 'p.SMG6','q.SMG6', 'cell line', 'deltaPSI', 'p', 'q']]"
   ]
  },
  {
   "cell_type": "code",
   "execution_count": 12,
   "metadata": {},
   "outputs": [],
   "source": [
    "# merging two_kds with eCLIPs\n",
    "kds_eCLIPS_500_11 = pd.merge(two_kds_500_11short, eCLIPs, on=['exon', 'target', 'factor'])\n",
    "#kds_eCLIPS_500_11p3 = pd.merge(two_kds_500_11p3short, eCLIPs, on=['exon', 'target', 'factor'])"
   ]
  },
  {
   "cell_type": "code",
   "execution_count": null,
   "metadata": {},
   "outputs": [],
   "source": [
    "# semi-final\n",
    "cross_peaks_500_11 = kds_eCLIPS_500_11[['exon', 'target', 'factor', 'deltaPSI.UPF1', 'p.UPF1', 'q.UPF1', \\\n",
    "                'deltaPSI.SMG6', 'p.SMG6','q.SMG6', 'deltaPSI', 'p', 'q', 'eCLIP_p-value', 'eCLIP_logFC']]\n",
    "#cross_peaks_500_11p3 = kds_eCLIPS_500_11p3[['exon', 'target', 'factor', 'deltaPSI.UPF1', 'p.UPF1', 'q.UPF1', \\\n",
    "                'deltaPSI.SMG6', 'p.SMG6','q.SMG6', 'deltaPSI', 'p', 'q', 'eCLIP_p-value', 'eCLIP_logFC']]"
   ]
  },
  {
   "cell_type": "code",
   "execution_count": 15,
   "metadata": {},
   "outputs": [],
   "source": [
    "# merging with gcn data\n",
    "cross_peaks_500_11_gcn = pd.merge(cross_peaks_500_11, srsf7_gcn, how='left', on=['factor','target'])\n",
    "#cross_peaks_500_11p3_gcn = pd.merge(cross_peaks_500_11p3, srsf7_gcn, how='left', on=['factor','target'])\n",
    "\n"
   ]
  },
  {
   "cell_type": "code",
   "execution_count": 29,
   "metadata": {},
   "outputs": [],
   "source": [
    "factor_list = cross_peaks_500_11_gcn.sort_values('p',ascending=False)['target'].unique()[:25]\n",
    "SRSF_relaxed_25_factors = cross_peaks_500_11_gcn[cross_peaks_500_11_gcn['target'].isin(factor_list)].sort_values('p',ascending=False)\n",
    "SRSF_relaxed_25_factors.to_csv('data/outputs/SRSF7_25factors_p-value.tsv', sep = '\\t')"
   ]
  },
  {
   "cell_type": "code",
   "execution_count": 84,
   "metadata": {},
   "outputs": [],
   "source": [
    "# saving output as tsv\n",
    "cross_peaks_500_11_gcn.to_csv('data/outputs/final_table_500_11.tsv', sep = '\\t')\n",
    "cross_peaks_500_11p3_gcn.to_csv('data/outputs/final_table_500_11p3.tsv', sep = '\\t')\n"
   ]
  },
  {
   "cell_type": "code",
   "execution_count": null,
   "metadata": {},
   "outputs": [],
   "source": []
  }
 ],
 "metadata": {
  "kernelspec": {
   "display_name": "Python 3",
   "language": "python",
   "name": "python3"
  },
  "language_info": {
   "codemirror_mode": {
    "name": "ipython",
    "version": 3
   },
   "file_extension": ".py",
   "mimetype": "text/x-python",
   "name": "python",
   "nbconvert_exporter": "python",
   "pygments_lexer": "ipython3",
   "version": "3.6.5"
  }
 },
 "nbformat": 4,
 "nbformat_minor": 2
}
